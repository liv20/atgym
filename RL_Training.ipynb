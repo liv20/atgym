{
 "cells": [
  {
   "cell_type": "code",
   "execution_count": 27,
   "id": "dd748b51",
   "metadata": {},
   "outputs": [],
   "source": [
    "from stable_baselines3 import A2C, DDPG, DQN, PPO, SAC, HER"
   ]
  },
  {
   "cell_type": "code",
   "execution_count": 13,
   "id": "672f9d3e",
   "metadata": {},
   "outputs": [
    {
     "name": "stdout",
     "output_type": "stream",
     "text": [
      "[*********************100%***********************]  1 of 1 completed\n",
      "[*********************100%***********************]  1 of 1 completed\n",
      "[*********************100%***********************]  1 of 1 completed\n",
      "[*********************100%***********************]  1 of 1 completed\n",
      "[*********************100%***********************]  1 of 1 completed\n"
     ]
    }
   ],
   "source": [
    "from atgym.atdata import TradingDataLoader\n",
    "from atgym.atsim import TradingEnv\n",
    "\n",
    "tdl = TradingDataLoader()\n",
    "data = tdl.download()\n",
    "# DQN, PPO,\n",
    "env = TradingEnv(data, trading_cost_pct=0.0)"
   ]
  },
  {
   "cell_type": "code",
   "execution_count": 6,
   "id": "b0ceaf12",
   "metadata": {},
   "outputs": [
    {
     "name": "stdout",
     "output_type": "stream",
     "text": [
      "evaluating <stable_baselines3.a2c.a2c.A2C object at 0x7ffdf65cc790>...\n",
      "      AAPL: -4.120757579804035\n",
      "      AMZN: 353.74354553228187\n",
      "      GOOG: 460.1792106628818\n",
      "      MSFT: -16.315707206725598\n",
      "      TSLA: 31.521039962770665\n",
      "total rewards: 165.00146627428097\n"
     ]
    },
    {
     "data": {
      "text/plain": [
       "165.00146627428097"
      ]
     },
     "execution_count": 6,
     "metadata": {},
     "output_type": "execute_result"
    }
   ],
   "source": [
    "env.evaluate(model)"
   ]
  },
  {
   "cell_type": "code",
   "execution_count": 8,
   "id": "0822887e",
   "metadata": {},
   "outputs": [],
   "source": [
    "state = env.reset()"
   ]
  },
  {
   "cell_type": "code",
   "execution_count": 9,
   "id": "a4d31a18",
   "metadata": {},
   "outputs": [
    {
     "data": {
      "text/plain": [
       "(1, None)"
      ]
     },
     "execution_count": 9,
     "metadata": {},
     "output_type": "execute_result"
    }
   ],
   "source": [
    "model.predict(state)"
   ]
  },
  {
   "cell_type": "code",
   "execution_count": 18,
   "id": "d655d9cc",
   "metadata": {},
   "outputs": [],
   "source": [
    "import pandas as pd\n",
    "\n",
    "d = pd.DataFrame({'a': [1, 2, 3], 'b': [2, 3, 4]})"
   ]
  },
  {
   "cell_type": "code",
   "execution_count": null,
   "id": "7aaff98c",
   "metadata": {},
   "outputs": [],
   "source": []
  }
 ],
 "metadata": {
  "kernelspec": {
   "display_name": "Python (base)",
   "language": "python",
   "name": "base"
  },
  "language_info": {
   "codemirror_mode": {
    "name": "ipython",
    "version": 3
   },
   "file_extension": ".py",
   "mimetype": "text/x-python",
   "name": "python",
   "nbconvert_exporter": "python",
   "pygments_lexer": "ipython3",
   "version": "3.8.5"
  }
 },
 "nbformat": 4,
 "nbformat_minor": 5
}
